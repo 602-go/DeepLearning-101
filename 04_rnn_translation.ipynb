{
  "nbformat": 4,
  "nbformat_minor": 0,
  "metadata": {
    "kernelspec": {
      "display_name": "Python 3",
      "language": "python",
      "name": "python3"
    },
    "language_info": {
      "codemirror_mode": {
        "name": "ipython",
        "version": 3
      },
      "file_extension": ".py",
      "mimetype": "text/x-python",
      "name": "python",
      "nbconvert_exporter": "python",
      "pygments_lexer": "ipython3",
      "version": "3.7.4"
    },
    "colab": {
      "name": "04-rnn-translation.ipynb",
      "provenance": [],
      "toc_visible": true,
      "include_colab_link": true
    }
  },
  "cells": [
    {
      "cell_type": "markdown",
      "metadata": {
        "id": "view-in-github",
        "colab_type": "text"
      },
      "source": [
        "<a href=\"https://colab.research.google.com/github/changsin/DeepLearning-101/blob/master/04_rnn_translation.ipynb\" target=\"_parent\"><img src=\"https://colab.research.google.com/assets/colab-badge.svg\" alt=\"Open In Colab\"/></a>"
      ]
    },
    {
      "cell_type": "markdown",
      "metadata": {
        "id": "iRzDDw0KEYID"
      },
      "source": [
        "Translation using RNN\n",
        "The data comes from [manythings.org](http://www.manythings.org/anki/). The format of the language-pairs are sentences of two language delimted by a tab (It has a third column that contains another attribute, but that is not needed for our purposes).\n",
        "\n",
        "```markdown\n",
        "Run!\t¡Corre!\t\n",
        "Run!\t¡Corran!\n",
        "```"
      ]
    },
    {
      "cell_type": "code",
      "metadata": {
        "id": "e_uPmG8gEYIH",
        "outputId": "c038d39e-3515-4b80-bb64-d4bd68268fbd",
        "colab": {
          "base_uri": "https://localhost:8080/"
        }
      },
      "source": [
        "import string\n",
        "import numpy as np\n",
        "import datetime\n",
        "import tensorflow as tf\n",
        "\n",
        "from tensorflow.keras.preprocessing.text import Tokenizer\n",
        "from tensorflow.keras.preprocessing.sequence import pad_sequences\n",
        "from tensorflow.keras.models import Model\n",
        "from tensorflow.keras.layers import LSTM, Input, TimeDistributed, Dense, Activation, Bidirectional\n",
        "from tensorflow.keras.optimizers import Adam\n",
        "from tensorflow.keras.losses import sparse_categorical_crossentropy\n",
        "\n",
        "print(tf.__version__)"
      ],
      "execution_count": null,
      "outputs": [
        {
          "output_type": "stream",
          "text": [
            "2.3.0\n"
          ],
          "name": "stdout"
        }
      ]
    },
    {
      "cell_type": "code",
      "metadata": {
        "id": "EJpKNeI0EYIL"
      },
      "source": [
        "# Path to translation file\n",
        "path_to_data = 'spa-en-es.txt'\n",
        "\n",
        "# Read file\n",
        "translation_file = open(path_to_data,\"r\", encoding='utf-8') \n",
        "raw_data = translation_file.read()\n",
        "translation_file.close()\n",
        "\n",
        "# Parse data\n",
        "raw_data = raw_data.split('\\n')\n",
        "pairs = [sentence.split('\\t') for sentence in raw_data]\n",
        "pairs = pairs[:-2] # skip last empty element"
      ],
      "execution_count": null,
      "outputs": []
    },
    {
      "cell_type": "code",
      "metadata": {
        "id": "KJUaCT8nEYIO",
        "outputId": "58cecacc-24dc-414e-9b8b-d1a6a1fa794b",
        "colab": {
          "base_uri": "https://localhost:8080/"
        }
      },
      "source": [
        "print(pairs[1])"
      ],
      "execution_count": null,
      "outputs": [
        {
          "output_type": "stream",
          "text": [
            "['Go.', 'Vete.', 'CC-BY 2.0 (France) Attribution: tatoeba.org #2877272 (CM) & #4986656 (cueyayotl)']\n"
          ],
          "name": "stdout"
        }
      ]
    },
    {
      "cell_type": "code",
      "metadata": {
        "id": "AVI_3oiBEYIQ",
        "outputId": "adec9ad5-5881-42bc-8d3a-97c3ce5cd188",
        "colab": {
          "base_uri": "https://localhost:8080/"
        }
      },
      "source": [
        "pairs = pairs[1000:20000]\n",
        "\n",
        "for idx_sample in range(5,10):\n",
        "    print('English example in pair {}:  {}'.format(idx_sample + 1, pairs[idx_sample][0]))\n",
        "    print('Spanish example in pair {}:  {}'.format(idx_sample + 1, pairs[idx_sample][1]))"
      ],
      "execution_count": null,
      "outputs": [
        {
          "output_type": "stream",
          "text": [
            "English example in pair 6:  Ask anyone.\n",
            "Spanish example in pair 6:  Pregúntenle a cualquiera.\n",
            "English example in pair 7:  Ask around.\n",
            "Spanish example in pair 7:  Pregunta por aquí.\n",
            "English example in pair 8:  Ask around.\n",
            "Spanish example in pair 8:  Pregunta en los alrededores.\n",
            "English example in pair 9:  Be careful.\n",
            "Spanish example in pair 9:  ¡Ten cuidado!\n",
            "English example in pair 10:  Be careful.\n",
            "Spanish example in pair 10:  ¡Sé cuidadoso!\n"
          ],
          "name": "stdout"
        }
      ]
    },
    {
      "cell_type": "code",
      "metadata": {
        "id": "xPw6bZfnEYIV",
        "outputId": "d566c0c1-b38a-43ea-a707-14931e693874",
        "colab": {
          "base_uri": "https://localhost:8080/"
        }
      },
      "source": [
        "def clean_sentence(sentence):\n",
        "    # Lower case the sentence\n",
        "    lower_case_sent = sentence.lower()\n",
        "    # Strip punctuation\n",
        "    string_punctuation = string.punctuation + \"¡\" + '¿'\n",
        "    clean_sentence = lower_case_sent.translate(str.maketrans('', '', string_punctuation))\n",
        "   \n",
        "    return clean_sentence\n",
        "\n",
        "print(clean_sentence(\"I will surf today !!\"))"
      ],
      "execution_count": null,
      "outputs": [
        {
          "output_type": "stream",
          "text": [
            "i will surf today \n"
          ],
          "name": "stdout"
        }
      ]
    },
    {
      "cell_type": "code",
      "metadata": {
        "id": "712T18p3EYIY",
        "outputId": "4c9bed4a-0c81-48a1-8001-3b1c988230ac",
        "colab": {
          "base_uri": "https://localhost:8080/"
        }
      },
      "source": [
        "text_examples = [\n",
        "    'i will surf today',\n",
        "    'this week i will travel to the beach',\n",
        "    'he went to his house by the beach',]\n",
        "\n",
        "# Create tokenizer\n",
        "exp_text_tokenizer = Tokenizer()\n",
        "# Create word index\n",
        "exp_text_tokenizer.fit_on_texts(text_examples)\n",
        "for key, value in exp_text_tokenizer.word_index.items():\n",
        "    print(\"Word: {} is converted to number {}\".format(key, value))\n",
        "    \n",
        "    \n",
        "# Tokenize sentences\n",
        "exp_text_tokenized = exp_text_tokenizer.texts_to_sequences(text_examples)\n",
        "print ('\\n')\n",
        "for sample_i, (sent, token_sent) in enumerate(zip(text_examples, exp_text_tokenized)):\n",
        "    print('Input sentence:  {}'.format(sent))\n",
        "    print('Output vector: {} \\n'.format(token_sent))"
      ],
      "execution_count": null,
      "outputs": [
        {
          "output_type": "stream",
          "text": [
            "Word: i is converted to number 1\n",
            "Word: will is converted to number 2\n",
            "Word: to is converted to number 3\n",
            "Word: the is converted to number 4\n",
            "Word: beach is converted to number 5\n",
            "Word: surf is converted to number 6\n",
            "Word: today is converted to number 7\n",
            "Word: this is converted to number 8\n",
            "Word: week is converted to number 9\n",
            "Word: travel is converted to number 10\n",
            "Word: he is converted to number 11\n",
            "Word: went is converted to number 12\n",
            "Word: his is converted to number 13\n",
            "Word: house is converted to number 14\n",
            "Word: by is converted to number 15\n",
            "\n",
            "\n",
            "Input sentence:  i will surf today\n",
            "Output vector: [1, 2, 6, 7] \n",
            "\n",
            "Input sentence:  this week i will travel to the beach\n",
            "Output vector: [8, 9, 1, 2, 10, 3, 4, 5] \n",
            "\n",
            "Input sentence:  he went to his house by the beach\n",
            "Output vector: [11, 12, 3, 13, 14, 15, 4, 5] \n",
            "\n"
          ],
          "name": "stdout"
        }
      ]
    },
    {
      "cell_type": "code",
      "metadata": {
        "id": "ISSgizwiEYIa"
      },
      "source": [
        "def tokenize(sentences):\n",
        "    # Create tokenizer\n",
        "    text_tokenizer = Tokenizer()\n",
        "    # Fit texts\n",
        "    text_tokenizer.fit_on_texts(sentences)\n",
        "    return text_tokenizer.texts_to_sequences(sentences), text_tokenizer"
      ],
      "execution_count": null,
      "outputs": []
    },
    {
      "cell_type": "code",
      "metadata": {
        "id": "fmkmPwJeEYIc",
        "outputId": "5b472ad7-6aab-4bb3-d685-158610924a9a",
        "colab": {
          "base_uri": "https://localhost:8080/"
        }
      },
      "source": [
        "# Clean sentences\n",
        "english_sentences = [clean_sentence(pair[0]) for pair in pairs]\n",
        "spanish_sentences = [clean_sentence(pair[1]) for pair in pairs]\n",
        "\n",
        "# Tokenize words\n",
        "spa_text_tokenized, spa_text_tokenizer = tokenize(spanish_sentences)\n",
        "eng_text_tokenized, eng_text_tokenizer = tokenize(english_sentences)\n",
        "\n",
        "print('Maximum length spanish sentence: {}'.format(len(max(spa_text_tokenized,key=len))))\n",
        "print('Maximum length english sentence: {}'.format(len(max(eng_text_tokenized,key=len))))\n",
        "\n",
        "# Check language length\n",
        "spanish_vocab = len(spa_text_tokenizer.word_index) + 1\n",
        "english_vocab = len(eng_text_tokenizer.word_index) + 1\n",
        "print(\"Spanish vocabulary is of {} unique words\".format(spanish_vocab))\n",
        "print(\"English vocabulary is of {} unique words\".format(english_vocab))"
      ],
      "execution_count": null,
      "outputs": [
        {
          "output_type": "stream",
          "text": [
            "Maximum length spanish sentence: 12\n",
            "Maximum length english sentence: 6\n",
            "Spanish vocabulary is of 7198 unique words\n",
            "English vocabulary is of 3738 unique words\n"
          ],
          "name": "stdout"
        }
      ]
    },
    {
      "cell_type": "markdown",
      "metadata": {
        "id": "iTW-tMymEYIf"
      },
      "source": [
        "**Padding**"
      ]
    },
    {
      "cell_type": "code",
      "metadata": {
        "id": "SE11-9rEEYIg",
        "outputId": "3bace1fc-2265-43c3-9058-a3e375693cad",
        "colab": {
          "base_uri": "https://localhost:8080/"
        }
      },
      "source": [
        "print('Maximum length of example sentence: {}'.format(len(max(exp_text_tokenized,key=len))))\n",
        "# Pad tokenize vectors\n",
        "exp_pad_sentence = pad_sequences(exp_text_tokenized, 8, padding = \"post\") # 8 is the max length\n",
        "for index, pad_sentence in enumerate(exp_pad_sentence):\n",
        "    print(\"Example sentence {}:\".format(index+1))\n",
        "    print(\"  -Input:{}\".format(exp_text_tokenized[index]))\n",
        "    print(\"  -Output:{}\".format(pad_sentence))\n"
      ],
      "execution_count": null,
      "outputs": [
        {
          "output_type": "stream",
          "text": [
            "Maximum length of example sentence: 8\n",
            "Example sentence 1:\n",
            "  -Input:[1, 2, 6, 7]\n",
            "  -Output:[1 2 6 7 0 0 0 0]\n",
            "Example sentence 2:\n",
            "  -Input:[8, 9, 1, 2, 10, 3, 4, 5]\n",
            "  -Output:[ 8  9  1  2 10  3  4  5]\n",
            "Example sentence 3:\n",
            "  -Input:[11, 12, 3, 13, 14, 15, 4, 5]\n",
            "  -Output:[11 12  3 13 14 15  4  5]\n"
          ],
          "name": "stdout"
        }
      ]
    },
    {
      "cell_type": "code",
      "metadata": {
        "id": "c_mclD3IEYIi"
      },
      "source": [
        "max_sentence_length = 12\n",
        "spa_pad_sentence = pad_sequences(spa_text_tokenized, max_sentence_length, padding = \"post\")\n",
        "eng_pad_sentence = pad_sequences(eng_text_tokenized, max_sentence_length, padding = \"post\")\n",
        "\n",
        "# Reshape data\n",
        "spa_pad_sentence = spa_pad_sentence.reshape(*spa_pad_sentence.shape, 1)\n",
        "eng_pad_sentence = eng_pad_sentence.reshape(*eng_pad_sentence.shape, 1)"
      ],
      "execution_count": null,
      "outputs": []
    },
    {
      "cell_type": "markdown",
      "metadata": {
        "id": "s9W4bjmkEYIk"
      },
      "source": [
        "## Create the RNN Model"
      ]
    },
    {
      "cell_type": "code",
      "metadata": {
        "id": "B_Lt-m6kEYIl"
      },
      "source": [
        "def logits_to_sentence(logits, tokenizer):\n",
        "\n",
        "    index_to_words = {idx: word for word, idx in tokenizer.word_index.items()}\n",
        "    index_to_words[0] = '<empty>' \n",
        "\n",
        "    return ' '.join([index_to_words[prediction] for prediction in np.argmax(logits, 1)])"
      ],
      "execution_count": null,
      "outputs": []
    },
    {
      "cell_type": "code",
      "metadata": {
        "id": "0JeoswMpEYIn"
      },
      "source": [
        "input_shape = (max_sentence_length, 1)"
      ],
      "execution_count": null,
      "outputs": []
    },
    {
      "cell_type": "code",
      "metadata": {
        "id": "1puBscRvEYIq"
      },
      "source": [
        "input_shape = (max_sentence_length, 1)\n",
        "input_sequence = Input(input_shape, name='InputLayer')\n",
        "rnn = LSTM(256, return_sequences=True, dropout=0.5, name='RNNLayer')(input_sequence)\n",
        "logits = TimeDistributed(Dense(spanish_vocab), name='TimeDistributed')(rnn)\n",
        "\n",
        "model = Model(input_sequence, Activation('softmax')(logits))\n",
        "model.compile(loss=sparse_categorical_crossentropy,\n",
        "              optimizer=Adam(1e-2),\n",
        "              metrics=['accuracy'])"
      ],
      "execution_count": null,
      "outputs": []
    },
    {
      "cell_type": "code",
      "metadata": {
        "id": "BPyBWJmaEYIs",
        "outputId": "667a5d32-a8e2-4707-da18-fbf5df482840",
        "colab": {
          "base_uri": "https://localhost:8080/"
        }
      },
      "source": [
        "model.summary()"
      ],
      "execution_count": null,
      "outputs": [
        {
          "output_type": "stream",
          "text": [
            "Model: \"functional_1\"\n",
            "_________________________________________________________________\n",
            "Layer (type)                 Output Shape              Param #   \n",
            "=================================================================\n",
            "InputLayer (InputLayer)      [(None, 12, 1)]           0         \n",
            "_________________________________________________________________\n",
            "RNNLayer (LSTM)              (None, 12, 256)           264192    \n",
            "_________________________________________________________________\n",
            "TimeDistributed (TimeDistrib (None, 12, 7198)          1849886   \n",
            "_________________________________________________________________\n",
            "activation (Activation)      (None, 12, 7198)          0         \n",
            "=================================================================\n",
            "Total params: 2,114,078\n",
            "Trainable params: 2,114,078\n",
            "Non-trainable params: 0\n",
            "_________________________________________________________________\n"
          ],
          "name": "stdout"
        }
      ]
    },
    {
      "cell_type": "code",
      "metadata": {
        "id": "mruReL97EYIu"
      },
      "source": [
        "%load_ext tensorboard"
      ],
      "execution_count": null,
      "outputs": []
    },
    {
      "cell_type": "code",
      "metadata": {
        "id": "i3EqeN8hEYIw"
      },
      "source": [
        "batch_size = 30\n",
        "\n",
        "# Include the epoch in the file name (uses `str.format`)\n",
        "checkpoint_path = \"training_2/cp-{epoch:04d}.ckpt\"\n",
        "checkpoint_dir = checkpoint_path\n",
        "log_dir = \"logs/\" + datetime.datetime.now().strftime(\"%Y%m%d-%H%M%S\")\n",
        "\n",
        "logs_callback = tf.keras.callbacks.TensorBoard(log_dir=log_dir,\n",
        "                                               histogram_freq=1)\n",
        "checkpoint_callback = tf.keras.callbacks.ModelCheckpoint(filepath=checkpoint_path,\n",
        "                                                         verbose=1, \n",
        "                                                         save_weights_only=True,\n",
        "                                                         save_freq=5*batch_size)"
      ],
      "execution_count": null,
      "outputs": []
    },
    {
      "cell_type": "code",
      "metadata": {
        "id": "HEtsATAVEYIy",
        "outputId": "d61b58e1-2701-4309-ddfe-963fbe3d6474",
        "colab": {
          "base_uri": "https://localhost:8080/"
        }
      },
      "source": [
        "model.load_weights('rnn-translator-weights')"
      ],
      "execution_count": null,
      "outputs": [
        {
          "output_type": "execute_result",
          "data": {
            "text/plain": [
              "<tensorflow.python.training.tracking.util.CheckpointLoadStatus at 0x7f9ae349c278>"
            ]
          },
          "metadata": {
            "tags": []
          },
          "execution_count": 43
        }
      ]
    },
    {
      "cell_type": "code",
      "metadata": {
        "id": "rndhc1b1EYI1",
        "outputId": "1bef5ef0-156a-4bd4-d6ad-d4fc714b9e9c",
        "colab": {
          "base_uri": "https://localhost:8080/"
        }
      },
      "source": [
        "history = model.fit(eng_pad_sentence, spa_pad_sentence, batch_size=batch_size,\n",
        "                    callbacks=[logs_callback, checkpoint_callback], epochs=10)"
      ],
      "execution_count": null,
      "outputs": [
        {
          "output_type": "stream",
          "text": [
            "Epoch 1/10\n",
            "  1/634 [..............................] - ETA: 0s - loss: 1.7201 - accuracy: 0.7333WARNING:tensorflow:From /usr/local/lib/python3.6/dist-packages/tensorflow/python/ops/summary_ops_v2.py:1277: stop (from tensorflow.python.eager.profiler) is deprecated and will be removed after 2020-07-01.\n",
            "Instructions for updating:\n",
            "use `tf.profiler.experimental.stop` instead.\n",
            "149/634 [======>.......................] - ETA: 1:45 - loss: 1.6847 - accuracy: 0.7463\n",
            "Epoch 00001: saving model to training_2/cp-0001.ckpt\n",
            "299/634 [=============>................] - ETA: 1:12 - loss: 1.6989 - accuracy: 0.7451\n",
            "Epoch 00001: saving model to training_2/cp-0001.ckpt\n",
            "449/634 [====================>.........] - ETA: 39s - loss: 1.7099 - accuracy: 0.7438\n",
            "Epoch 00001: saving model to training_2/cp-0001.ckpt\n",
            "599/634 [===========================>..] - ETA: 7s - loss: 1.7156 - accuracy: 0.7434\n",
            "Epoch 00001: saving model to training_2/cp-0001.ckpt\n",
            "634/634 [==============================] - 136s 215ms/step - loss: 1.7164 - accuracy: 0.7433\n",
            "Epoch 2/10\n",
            "115/634 [====>.........................] - ETA: 1:49 - loss: 1.7001 - accuracy: 0.7433\n",
            "Epoch 00002: saving model to training_2/cp-0002.ckpt\n",
            "265/634 [===========>..................] - ETA: 1:18 - loss: 1.7011 - accuracy: 0.7434\n",
            "Epoch 00002: saving model to training_2/cp-0002.ckpt\n",
            "415/634 [==================>...........] - ETA: 46s - loss: 1.6998 - accuracy: 0.7440\n",
            "Epoch 00002: saving model to training_2/cp-0002.ckpt\n",
            "565/634 [=========================>....] - ETA: 14s - loss: 1.7056 - accuracy: 0.7439\n",
            "Epoch 00002: saving model to training_2/cp-0002.ckpt\n",
            "634/634 [==============================] - 136s 214ms/step - loss: 1.7074 - accuracy: 0.7438\n",
            "Epoch 3/10\n",
            " 81/634 [==>...........................] - ETA: 1:57 - loss: 1.6772 - accuracy: 0.7458\n",
            "Epoch 00003: saving model to training_2/cp-0003.ckpt\n",
            "231/634 [=========>....................] - ETA: 1:27 - loss: 1.6925 - accuracy: 0.7437\n",
            "Epoch 00003: saving model to training_2/cp-0003.ckpt\n",
            "381/634 [=================>............] - ETA: 54s - loss: 1.7011 - accuracy: 0.7430\n",
            "Epoch 00003: saving model to training_2/cp-0003.ckpt\n",
            "531/634 [========================>.....] - ETA: 22s - loss: 1.7026 - accuracy: 0.7439\n",
            "Epoch 00003: saving model to training_2/cp-0003.ckpt\n",
            "634/634 [==============================] - 137s 216ms/step - loss: 1.7048 - accuracy: 0.7438\n",
            "Epoch 4/10\n",
            " 47/634 [=>............................] - ETA: 2:02 - loss: 1.7009 - accuracy: 0.7425\n",
            "Epoch 00004: saving model to training_2/cp-0004.ckpt\n",
            "197/634 [========>.....................] - ETA: 1:32 - loss: 1.6906 - accuracy: 0.7442\n",
            "Epoch 00004: saving model to training_2/cp-0004.ckpt\n",
            "347/634 [===============>..............] - ETA: 1:04 - loss: 1.6920 - accuracy: 0.7434\n",
            "Epoch 00004: saving model to training_2/cp-0004.ckpt\n",
            "497/634 [======================>.......] - ETA: 30s - loss: 1.6955 - accuracy: 0.7433\n",
            "Epoch 00004: saving model to training_2/cp-0004.ckpt\n",
            "634/634 [==============================] - 139s 219ms/step - loss: 1.6976 - accuracy: 0.7440\n",
            "Epoch 5/10\n",
            " 13/634 [..............................] - ETA: 2:02 - loss: 1.6423 - accuracy: 0.7474\n",
            "Epoch 00005: saving model to training_2/cp-0005.ckpt\n",
            "163/634 [======>.......................] - ETA: 1:40 - loss: 1.6749 - accuracy: 0.7446\n",
            "Epoch 00005: saving model to training_2/cp-0005.ckpt\n",
            "313/634 [=============>................] - ETA: 1:08 - loss: 1.6846 - accuracy: 0.7442\n",
            "Epoch 00005: saving model to training_2/cp-0005.ckpt\n",
            "463/634 [====================>.........] - ETA: 36s - loss: 1.6895 - accuracy: 0.7440\n",
            "Epoch 00005: saving model to training_2/cp-0005.ckpt\n",
            "613/634 [============================>.] - ETA: 4s - loss: 1.6933 - accuracy: 0.7441\n",
            "Epoch 00005: saving model to training_2/cp-0005.ckpt\n",
            "634/634 [==============================] - 137s 216ms/step - loss: 1.6920 - accuracy: 0.7442\n",
            "Epoch 6/10\n",
            "129/634 [=====>........................] - ETA: 1:47 - loss: 1.6689 - accuracy: 0.7445\n",
            "Epoch 00006: saving model to training_2/cp-0006.ckpt\n",
            "279/634 [============>.................] - ETA: 1:15 - loss: 1.6818 - accuracy: 0.7440\n",
            "Epoch 00006: saving model to training_2/cp-0006.ckpt\n",
            "429/634 [===================>..........] - ETA: 43s - loss: 1.6842 - accuracy: 0.7440\n",
            "Epoch 00006: saving model to training_2/cp-0006.ckpt\n",
            "579/634 [==========================>...] - ETA: 11s - loss: 1.6869 - accuracy: 0.7439\n",
            "Epoch 00006: saving model to training_2/cp-0006.ckpt\n",
            "634/634 [==============================] - 136s 215ms/step - loss: 1.6875 - accuracy: 0.7441\n",
            "Epoch 7/10\n",
            " 95/634 [===>..........................] - ETA: 1:54 - loss: 1.6624 - accuracy: 0.7456\n",
            "Epoch 00007: saving model to training_2/cp-0007.ckpt\n",
            "245/634 [==========>...................] - ETA: 1:23 - loss: 1.6683 - accuracy: 0.7451\n",
            "Epoch 00007: saving model to training_2/cp-0007.ckpt\n",
            "395/634 [=================>............] - ETA: 51s - loss: 1.6766 - accuracy: 0.7452\n",
            "Epoch 00007: saving model to training_2/cp-0007.ckpt\n",
            "545/634 [========================>.....] - ETA: 19s - loss: 1.6813 - accuracy: 0.7447\n",
            "Epoch 00007: saving model to training_2/cp-0007.ckpt\n",
            "634/634 [==============================] - 136s 214ms/step - loss: 1.6816 - accuracy: 0.7449\n",
            "Epoch 8/10\n",
            " 61/634 [=>............................] - ETA: 2:03 - loss: 1.6434 - accuracy: 0.7459\n",
            "Epoch 00008: saving model to training_2/cp-0008.ckpt\n",
            "211/634 [========>.....................] - ETA: 1:30 - loss: 1.6567 - accuracy: 0.7455\n",
            "Epoch 00008: saving model to training_2/cp-0008.ckpt\n",
            "361/634 [================>.............] - ETA: 58s - loss: 1.6679 - accuracy: 0.7446\n",
            "Epoch 00008: saving model to training_2/cp-0008.ckpt\n",
            "511/634 [=======================>......] - ETA: 26s - loss: 1.6717 - accuracy: 0.7449\n",
            "Epoch 00008: saving model to training_2/cp-0008.ckpt\n",
            "634/634 [==============================] - 135s 213ms/step - loss: 1.6760 - accuracy: 0.7448\n",
            "Epoch 9/10\n",
            " 27/634 [>.............................] - ETA: 2:04 - loss: 1.6491 - accuracy: 0.7426\n",
            "Epoch 00009: saving model to training_2/cp-0009.ckpt\n",
            "177/634 [=======>......................] - ETA: 1:36 - loss: 1.6678 - accuracy: 0.7437\n",
            "Epoch 00009: saving model to training_2/cp-0009.ckpt\n",
            "327/634 [==============>...............] - ETA: 1:04 - loss: 1.6714 - accuracy: 0.7441\n",
            "Epoch 00009: saving model to training_2/cp-0009.ckpt\n",
            "477/634 [=====================>........] - ETA: 33s - loss: 1.6734 - accuracy: 0.7441\n",
            "Epoch 00009: saving model to training_2/cp-0009.ckpt\n",
            "627/634 [============================>.] - ETA: 1s - loss: 1.6740 - accuracy: 0.7448\n",
            "Epoch 00009: saving model to training_2/cp-0009.ckpt\n",
            "634/634 [==============================] - 134s 212ms/step - loss: 1.6738 - accuracy: 0.7449\n",
            "Epoch 10/10\n",
            "143/634 [=====>........................] - ETA: 1:44 - loss: 1.6564 - accuracy: 0.7453\n",
            "Epoch 00010: saving model to training_2/cp-0010.ckpt\n",
            "293/634 [============>.................] - ETA: 1:13 - loss: 1.6629 - accuracy: 0.7454\n",
            "Epoch 00010: saving model to training_2/cp-0010.ckpt\n",
            "443/634 [===================>..........] - ETA: 41s - loss: 1.6656 - accuracy: 0.7453\n",
            "Epoch 00010: saving model to training_2/cp-0010.ckpt\n",
            "593/634 [===========================>..] - ETA: 8s - loss: 1.6674 - accuracy: 0.7455\n",
            "Epoch 00010: saving model to training_2/cp-0010.ckpt\n",
            "634/634 [==============================] - 136s 215ms/step - loss: 1.6683 - accuracy: 0.7454\n"
          ],
          "name": "stdout"
        }
      ]
    },
    {
      "cell_type": "code",
      "metadata": {
        "id": "40Ck7NnljaiJ"
      },
      "source": [
        "model.save_weights('rnn-translator-weights')"
      ],
      "execution_count": null,
      "outputs": []
    },
    {
      "cell_type": "code",
      "metadata": {
        "id": "EkKtgV8BEYI4"
      },
      "source": [
        "%tensorboard --logdir logs"
      ],
      "execution_count": null,
      "outputs": []
    },
    {
      "cell_type": "code",
      "metadata": {
        "id": "UgdvNOrLEYI7",
        "outputId": "241997cd-3dcf-4e0a-d3aa-2ffa117dc81b",
        "colab": {
          "base_uri": "https://localhost:8080/"
        }
      },
      "source": [
        "index = 10\n",
        "print(\"The english sentence is: {}\".format(english_sentences[index]))\n",
        "print(\"The spanish sentence is: {}\".format(spanish_sentences[index]))\n",
        "print('The predicted sentence is :')\n",
        "print(logits_to_sentence(model.predict(eng_pad_sentence[index:index+1])[0], spa_text_tokenizer))"
      ],
      "execution_count": null,
      "outputs": [
        {
          "output_type": "stream",
          "text": [
            "The english sentence is: be content\n",
            "The spanish sentence is: estate contento\n",
            "The predicted sentence is :\n",
            "es se <empty> <empty> <empty> <empty> <empty> <empty> <empty> <empty> <empty> <empty>\n"
          ],
          "name": "stdout"
        }
      ]
    }
  ]
}