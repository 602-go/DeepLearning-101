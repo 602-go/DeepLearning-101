{
  "nbformat": 4,
  "nbformat_minor": 0,
  "metadata": {
    "colab": {
      "name": "03-tf-train-mnist-cnn.ipynb",
      "provenance": [],
      "authorship_tag": "ABX9TyNqcTcanIzmsbuOR746okpP",
      "include_colab_link": true
    },
    "kernelspec": {
      "name": "python3",
      "display_name": "Python 3"
    }
  },
  "cells": [
    {
      "cell_type": "markdown",
      "metadata": {
        "id": "view-in-github",
        "colab_type": "text"
      },
      "source": [
        "<a href=\"https://colab.research.google.com/github/changsin/DeepLearning-101/blob/master/03_tf_train_mnist_cnn.ipynb\" target=\"_parent\"><img src=\"https://colab.research.google.com/assets/colab-badge.svg\" alt=\"Open In Colab\"/></a>"
      ]
    },
    {
      "cell_type": "markdown",
      "metadata": {
        "id": "lIT_6IAwnay_"
      },
      "source": [
        "Import necessary libraries."
      ]
    },
    {
      "cell_type": "code",
      "metadata": {
        "id": "2x3DgRsQm8oT"
      },
      "source": [
        "import numpy as np\n",
        "import tensorflow as tf\n",
        "\n",
        "from tensorflow import keras\n",
        "from tensorflow.keras import Sequential\n",
        "from tensorflow.keras.datasets import mnist\n",
        "from tensorflow.keras.layers import Conv2D, Dense, Dropout, Flatten, MaxPooling2D\n",
        "from tensorflow.keras.optimizers import Adam\n",
        "from tensorflow.keras.utils import to_categorical\n",
        "from tensorflow.keras import backend as K\n",
        "from matplotlib import pyplot as plt\n"
      ],
      "execution_count": 1,
      "outputs": []
    },
    {
      "cell_type": "markdown",
      "metadata": {
        "id": "ywzagULZnVil"
      },
      "source": [
        "Define hyperparameters first."
      ]
    },
    {
      "cell_type": "code",
      "metadata": {
        "id": "ha1Wm3vEnSt5"
      },
      "source": [
        "NUM_OF_CLASSES = 10\n",
        "BATCH_SIZE = 128\n",
        "EPOCHS = 10\n",
        "# input image dimensions\n",
        "IMG_ROWS, IMG_COLS = 28, 28"
      ],
      "execution_count": 2,
      "outputs": []
    },
    {
      "cell_type": "markdown",
      "metadata": {
        "id": "PNatYOI1oA4V"
      },
      "source": [
        "Load the dataset. [MNIST](https://en.wikipedia.org/wiki/MNIST_database) is a built-in dataset in TensorFlow."
      ]
    },
    {
      "cell_type": "code",
      "metadata": {
        "id": "MjMiieL_n3oq"
      },
      "source": [
        "(x_train, y_train), (x_test, y_test) = mnist.load_data()\n",
        "x_train, x_test = x_train / 255.0, x_test / 255.0"
      ],
      "execution_count": 11,
      "outputs": []
    },
    {
      "cell_type": "code",
      "metadata": {
        "id": "mIKZqU3NrmHs",
        "outputId": "333e4f63-4401-4fcd-fb69-ded279f01125",
        "colab": {
          "base_uri": "https://localhost:8080/"
        }
      },
      "source": [
        "print(x_train.shape)\n",
        "print(y_train.shape)\n",
        "print(x_test.shape)\n",
        "print(y_test.shape)"
      ],
      "execution_count": 12,
      "outputs": [
        {
          "output_type": "stream",
          "text": [
            "(60000, 28, 28)\n",
            "(60000,)\n",
            "(10000, 28, 28)\n",
            "(10000,)\n"
          ],
          "name": "stdout"
        }
      ]
    },
    {
      "cell_type": "code",
      "metadata": {
        "id": "28UlznRhranR",
        "outputId": "f412057f-05b8-4430-f5dc-f051f3b75316",
        "colab": {
          "base_uri": "https://localhost:8080/"
        }
      },
      "source": [
        "y_train = to_categorical(y_train, NUM_OF_CLASSES)\n",
        "y_test = to_categorical(y_test, NUM_OF_CLASSES)\n",
        "\n",
        "print(x_train.shape)\n",
        "print(y_train.shape)\n",
        "print(x_test.shape)\n",
        "print(y_test.shape)"
      ],
      "execution_count": 13,
      "outputs": [
        {
          "output_type": "stream",
          "text": [
            "(60000, 28, 28)\n",
            "(60000, 10)\n",
            "(10000, 28, 28)\n",
            "(10000, 10)\n"
          ],
          "name": "stdout"
        }
      ]
    },
    {
      "cell_type": "code",
      "metadata": {
        "id": "3ML-SvlLr1rN",
        "outputId": "afee6c8e-6053-4c24-ba81-d7dde2c6a8ae",
        "colab": {
          "base_uri": "https://localhost:8080/"
        }
      },
      "source": [
        "data_format = K.image_data_format()\n",
        "print(data_format)"
      ],
      "execution_count": 14,
      "outputs": [
        {
          "output_type": "stream",
          "text": [
            "channels_last\n"
          ],
          "name": "stdout"
        }
      ]
    },
    {
      "cell_type": "code",
      "metadata": {
        "id": "07wpDyewr85K"
      },
      "source": [
        "if data_format == 'channels_first':\n",
        "    x_train = x_train.reshape(x_train.shape[0], 1, IMG_ROWS, IMG_COLS)\n",
        "    x_test = x_test.reshape(x_test.shape[0], 1, IMG_ROWS, IMG_COLS)\n",
        "    input_shape = (1, IMG_ROWS, IMG_COLS)\n",
        "else:\n",
        "    x_train = x_train.reshape(x_train.shape[0], IMG_ROWS, IMG_COLS, 1)\n",
        "    x_test = x_test.reshape(x_test.shape[0], IMG_ROWS, IMG_COLS, 1)\n",
        "    input_shape = (IMG_ROWS, IMG_COLS, 1)"
      ],
      "execution_count": null,
      "outputs": []
    },
    {
      "cell_type": "markdown",
      "metadata": {
        "id": "MipXAb--ovCH"
      },
      "source": [
        "Define the model using Sequential."
      ]
    },
    {
      "cell_type": "code",
      "metadata": {
        "id": "qcQXU7NwoUEj",
        "outputId": "9c732c66-49f5-4937-8aab-7a44ff564bcc",
        "colab": {
          "base_uri": "https://localhost:8080/"
        }
      },
      "source": [
        "model = Sequential([\n",
        "    Conv2D(32, kernel_size=(3, 3), activation='relu', input_shape=input_shape),\n",
        "    Conv2D(64, (3, 3), activation='relu'),\n",
        "    MaxPooling2D(pool_size=(2, 2)),\n",
        "    Dropout(0.25),\n",
        "    Flatten(),\n",
        "    Dense(128, activation='relu'),\n",
        "    Dropout(0.5),\n",
        "    Dense(NUM_OF_CLASSES, activation='softmax')\n",
        "])\n",
        "model.summary()"
      ],
      "execution_count": 4,
      "outputs": [
        {
          "output_type": "stream",
          "text": [
            "Model: \"sequential\"\n",
            "_________________________________________________________________\n",
            "Layer (type)                 Output Shape              Param #   \n",
            "=================================================================\n",
            "conv2d (Conv2D)              (None, 26, 26, 32)        320       \n",
            "_________________________________________________________________\n",
            "conv2d_1 (Conv2D)            (None, 24, 24, 64)        18496     \n",
            "_________________________________________________________________\n",
            "max_pooling2d (MaxPooling2D) (None, 12, 12, 64)        0         \n",
            "_________________________________________________________________\n",
            "dropout (Dropout)            (None, 12, 12, 64)        0         \n",
            "_________________________________________________________________\n",
            "flatten (Flatten)            (None, 9216)              0         \n",
            "_________________________________________________________________\n",
            "dense (Dense)                (None, 128)               1179776   \n",
            "_________________________________________________________________\n",
            "dropout_1 (Dropout)          (None, 128)               0         \n",
            "_________________________________________________________________\n",
            "dense_1 (Dense)              (None, 10)                1290      \n",
            "=================================================================\n",
            "Total params: 1,199,882\n",
            "Trainable params: 1,199,882\n",
            "Non-trainable params: 0\n",
            "_________________________________________________________________\n"
          ],
          "name": "stdout"
        }
      ]
    },
    {
      "cell_type": "markdown",
      "metadata": {
        "id": "YnsphvDWo5Z8"
      },
      "source": [
        "Specify the optimizer for backpropagation. Note that the loss (cost) funciton is cross entropy that tends to go hand-in-hand with softmax activation function."
      ]
    },
    {
      "cell_type": "code",
      "metadata": {
        "id": "HtaD_mpQogYh"
      },
      "source": [
        "optimizer = keras.optimizers.Adadelta() \n",
        "loss = keras.losses.categorical_crossentropy\n",
        "\n",
        "model.compile(optimizer=optimizer, loss=loss, metrics=['accuracy'])"
      ],
      "execution_count": 5,
      "outputs": []
    },
    {
      "cell_type": "markdown",
      "metadata": {
        "id": "kUcnG4_2piKv"
      },
      "source": [
        "Ready for training finally. Let's roll."
      ]
    },
    {
      "cell_type": "code",
      "metadata": {
        "id": "CkDGQo_fok06",
        "outputId": "c5331228-a509-401b-9c8d-983810beb9da",
        "colab": {
          "base_uri": "https://localhost:8080/"
        }
      },
      "source": [
        "history = model.fit(x_train, y_train,\n",
        "                    batch_size=BATCH_SIZE,\n",
        "                    epochs=EPOCHS,\n",
        "                    verbose=1,\n",
        "                    validation_data=(x_test, y_test))"
      ],
      "execution_count": 6,
      "outputs": [
        {
          "output_type": "stream",
          "text": [
            "Epoch 1/10\n",
            "469/469 [==============================] - 142s 303ms/step - loss: 2.2876 - accuracy: 0.1482 - val_loss: 2.2608 - val_accuracy: 0.3184\n",
            "Epoch 2/10\n",
            "469/469 [==============================] - 142s 303ms/step - loss: 2.2455 - accuracy: 0.2467 - val_loss: 2.2091 - val_accuracy: 0.4601\n",
            "Epoch 3/10\n",
            "469/469 [==============================] - 141s 301ms/step - loss: 2.1903 - accuracy: 0.3422 - val_loss: 2.1371 - val_accuracy: 0.5685\n",
            "Epoch 4/10\n",
            "469/469 [==============================] - 146s 312ms/step - loss: 2.1133 - accuracy: 0.4258 - val_loss: 2.0383 - val_accuracy: 0.6348\n",
            "Epoch 5/10\n",
            "469/469 [==============================] - 141s 302ms/step - loss: 2.0093 - accuracy: 0.4940 - val_loss: 1.9056 - val_accuracy: 0.6875\n",
            "Epoch 6/10\n",
            "469/469 [==============================] - 143s 304ms/step - loss: 1.8723 - accuracy: 0.5512 - val_loss: 1.7322 - val_accuracy: 0.7319\n",
            "Epoch 7/10\n",
            "469/469 [==============================] - 142s 303ms/step - loss: 1.7026 - accuracy: 0.5969 - val_loss: 1.5233 - val_accuracy: 0.7649\n",
            "Epoch 8/10\n",
            "469/469 [==============================] - 142s 303ms/step - loss: 1.5181 - accuracy: 0.6278 - val_loss: 1.3039 - val_accuracy: 0.7923\n",
            "Epoch 9/10\n",
            "469/469 [==============================] - 142s 303ms/step - loss: 1.3424 - accuracy: 0.6565 - val_loss: 1.1065 - val_accuracy: 0.8123\n",
            "Epoch 10/10\n",
            "469/469 [==============================] - 143s 304ms/step - loss: 1.1928 - accuracy: 0.6805 - val_loss: 0.9484 - val_accuracy: 0.8272\n"
          ],
          "name": "stdout"
        }
      ]
    },
    {
      "cell_type": "markdown",
      "metadata": {
        "id": "utbqrG_Xpfs_"
      },
      "source": [
        "Let's evaluate the model."
      ]
    },
    {
      "cell_type": "code",
      "metadata": {
        "id": "ZalTREJpon5s",
        "outputId": "ffece77b-3d4c-4680-ab26-69db496fb3f4",
        "colab": {
          "base_uri": "https://localhost:8080/"
        }
      },
      "source": [
        "model.evaluate(x_test, y_test)"
      ],
      "execution_count": 7,
      "outputs": [
        {
          "output_type": "stream",
          "text": [
            "313/313 [==============================] - 7s 21ms/step - loss: 0.9484 - accuracy: 0.8272\n"
          ],
          "name": "stdout"
        },
        {
          "output_type": "execute_result",
          "data": {
            "text/plain": [
              "[0.9484146237373352, 0.8271999955177307]"
            ]
          },
          "metadata": {
            "tags": []
          },
          "execution_count": 7
        }
      ]
    },
    {
      "cell_type": "markdown",
      "metadata": {
        "id": "5cVg3kO7prnW"
      },
      "source": [
        "Predict means inferencing."
      ]
    },
    {
      "cell_type": "code",
      "metadata": {
        "id": "3lXlNsPGpe0N",
        "outputId": "190dce85-91bb-4fb8-92b8-1e9e7833d857",
        "colab": {
          "base_uri": "https://localhost:8080/"
        }
      },
      "source": [
        "CLASS_NAMES = np.array([0, 1, 2, 3, 4, 5, 6, 7, 8, 9])\n",
        "print(CLASS_NAMES)\n",
        "\n",
        "preds = model.predict(x_test)\n",
        "\n",
        "preds_single = CLASS_NAMES[np.argmax(preds, axis = -1)]\n",
        "actual_single = CLASS_NAMES[np.argmax(y_test, axis = -1)]"
      ],
      "execution_count": 8,
      "outputs": [
        {
          "output_type": "stream",
          "text": [
            "[0 1 2 3 4 5 6 7 8 9]\n"
          ],
          "name": "stdout"
        }
      ]
    },
    {
      "cell_type": "markdown",
      "metadata": {
        "id": "RUTQTQVNp_zU"
      },
      "source": [
        "Show the training loss and accuracy."
      ]
    },
    {
      "cell_type": "code",
      "metadata": {
        "id": "6E9z4Up4p1ws",
        "outputId": "a8389cf3-4f8e-4741-dc2e-b638029c1713",
        "colab": {
          "base_uri": "https://localhost:8080/",
          "height": 281
        }
      },
      "source": [
        "# plot loss during training\n",
        "plt.subplot(211)\n",
        "plt.title('Loss')\n",
        "plt.plot(history.history['loss'], label='train')\n",
        "plt.legend()\n",
        "\n",
        "# plot mse during training\n",
        "plt.subplot(212)\n",
        "plt.title('Accuracy')\n",
        "plt.plot(history.history['accuracy'], label='train')\n",
        "plt.legend()\n",
        "plt.show()"
      ],
      "execution_count": 9,
      "outputs": [
        {
          "output_type": "display_data",
          "data": {
            "image/png": "[encoded data removed]",
            "text/plain": [
              "<Figure size 432x288 with 2 Axes>"
            ]
          },
          "metadata": {
            "tags": [],
            "needs_background": "light"
          }
        }
      ]
    },
    {
      "cell_type": "markdown",
      "metadata": {
        "id": "m2SWFNEup70d"
      },
      "source": [
        "Show the results in UI."
      ]
    },
    {
      "cell_type": "code",
      "metadata": {
        "id": "EHlVwIsxp6T5",
        "outputId": "3dbe2ec5-f6ca-4847-ea1f-f8c2b9758b6f",
        "colab": {
          "base_uri": "https://localhost:8080/",
          "height": 138
        }
      },
      "source": [
        "n_to_show = 10\n",
        "indices = np.random.choice(range(len(x_test)), n_to_show)\n",
        "\n",
        "fig = plt.figure(figsize=(15, 3))\n",
        "fig.subplots_adjust(hspace=0.4, wspace=0.4)\n",
        "\n",
        "for i, idx in enumerate(indices):\n",
        "    img = x_test[idx]\n",
        "    ax = fig.add_subplot(1, n_to_show, i+1)\n",
        "    ax.axis('off')\n",
        "    ax.text(0.5, -0.35, 'pred = ' + str(preds_single[idx]), fontsize=10, ha='center', transform=ax.transAxes) \n",
        "    ax.text(0.5, -0.7, 'act = ' + str(actual_single[idx]), fontsize=10, ha='center', transform=ax.transAxes)\n",
        "    ax.imshow(img)"
      ],
      "execution_count": 15,
      "outputs": [
        {
          "output_type": "display_data",
          "data": {
            "image/png": "[encoded data removed]",
            "text/plain": [
              "<Figure size 1080x216 with 10 Axes>"
            ]
          },
          "metadata": {
            "tags": [],
            "needs_background": "light"
          }
        }
      ]
    }
  ]
}